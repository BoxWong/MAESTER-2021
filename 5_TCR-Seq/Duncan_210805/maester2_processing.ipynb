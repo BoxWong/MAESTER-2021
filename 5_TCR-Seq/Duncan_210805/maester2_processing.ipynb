{
 "cells": [
  {
   "cell_type": "code",
   "execution_count": 1,
   "metadata": {},
   "outputs": [
    {
     "data": {
      "text/html": [
       "'/home/jupyter/notebooks/TCR-Seq_MAESTER/edit'"
      ],
      "text/latex": [
       "'/home/jupyter/notebooks/TCR-Seq\\_MAESTER/edit'"
      ],
      "text/markdown": [
       "'/home/jupyter/notebooks/TCR-Seq_MAESTER/edit'"
      ],
      "text/plain": [
       "[1] \"/home/jupyter/notebooks/TCR-Seq_MAESTER/edit\""
      ]
     },
     "metadata": {},
     "output_type": "display_data"
    },
    {
     "data": {
      "text/html": [
       "'vangalenlab'"
      ],
      "text/latex": [
       "'vangalenlab'"
      ],
      "text/markdown": [
       "'vangalenlab'"
      ],
      "text/plain": [
       "[1] \"vangalenlab\""
      ]
     },
     "metadata": {},
     "output_type": "display_data"
    },
    {
     "data": {
      "text/html": [
       "'TCR-Seq_MAESTER'"
      ],
      "text/latex": [
       "'TCR-Seq\\_MAESTER'"
      ],
      "text/markdown": [
       "'TCR-Seq_MAESTER'"
      ],
      "text/plain": [
       "[1] \"TCR-Seq_MAESTER\""
      ]
     },
     "metadata": {},
     "output_type": "display_data"
    },
    {
     "data": {
      "text/html": [
       "'gs://fc-c1f4ce09-fd0e-48b6-bf60-7b1b555a73b9'"
      ],
      "text/latex": [
       "'gs://fc-c1f4ce09-fd0e-48b6-bf60-7b1b555a73b9'"
      ],
      "text/markdown": [
       "'gs://fc-c1f4ce09-fd0e-48b6-bf60-7b1b555a73b9'"
      ],
      "text/plain": [
       "[1] \"gs://fc-c1f4ce09-fd0e-48b6-bf60-7b1b555a73b9\""
      ]
     },
     "metadata": {},
     "output_type": "display_data"
    },
    {
     "data": {
      "text/html": [
       "<style>\n",
       ".list-inline {list-style: none; margin:0; padding: 0}\n",
       ".list-inline>li {display: inline-block}\n",
       ".list-inline>li:not(:last-child)::after {content: \"\\00b7\"; padding: 0 .5ex}\n",
       "</style>\n",
       "<ol class=list-inline><li>'20210611_maester2_TCRalignSortMappingSummary.txt'</li><li>'20210611_maester2_vfilter9.csv'</li><li>'20210805_maester2_TCRalignSortMappingSummary.txt'</li><li>'lane2_barcodes.txt'</li><li>'maester2_processing.ipynb'</li><li>'test.ipynb'</li></ol>\n"
      ],
      "text/latex": [
       "\\begin{enumerate*}\n",
       "\\item '20210611\\_maester2\\_TCRalignSortMappingSummary.txt'\n",
       "\\item '20210611\\_maester2\\_vfilter9.csv'\n",
       "\\item '20210805\\_maester2\\_TCRalignSortMappingSummary.txt'\n",
       "\\item 'lane2\\_barcodes.txt'\n",
       "\\item 'maester2\\_processing.ipynb'\n",
       "\\item 'test.ipynb'\n",
       "\\end{enumerate*}\n"
      ],
      "text/markdown": [
       "1. '20210611_maester2_TCRalignSortMappingSummary.txt'\n",
       "2. '20210611_maester2_vfilter9.csv'\n",
       "3. '20210805_maester2_TCRalignSortMappingSummary.txt'\n",
       "4. 'lane2_barcodes.txt'\n",
       "5. 'maester2_processing.ipynb'\n",
       "6. 'test.ipynb'\n",
       "\n",
       "\n"
      ],
      "text/plain": [
       "[1] \"20210611_maester2_TCRalignSortMappingSummary.txt\"\n",
       "[2] \"20210611_maester2_vfilter9.csv\"                  \n",
       "[3] \"20210805_maester2_TCRalignSortMappingSummary.txt\"\n",
       "[4] \"lane2_barcodes.txt\"                              \n",
       "[5] \"maester2_processing.ipynb\"                       \n",
       "[6] \"test.ipynb\"                                      "
      ]
     },
     "metadata": {},
     "output_type": "display_data"
    }
   ],
   "source": [
    "# Peter van Galen, 210820\n",
    "# This script reproduces Duncan Morgan's analysis of the TCR-Seq data for the MAESTER paper\n",
    "\n",
    "# Options, clean environment\n",
    "options(stringsAsFactors = FALSE)\n",
    "rm(list=ls())\n",
    "\n",
    "# Environment variables\n",
    "project <- Sys.getenv('WORKSPACE_NAMESPACE')\n",
    "workspace <- Sys.getenv('WORKSPACE_NAME')\n",
    "bucket <- Sys.getenv('WORKSPACE_BUCKET')\n",
    "\n",
    "# This should already be the working directory but set it just in case\n",
    "getwd()\n",
    "setwd('/home/jupyter/notebooks/TCR-Seq_MAESTER/edit')\n",
    "\n",
    "# Copy data to Google bucket and back\n",
    "#system(paste0(\"gsutil cp ~/home/jupyter/notebooks/\", workspace, \" \", bucket))\n",
    "system(paste0(\"gsutil cp \", bucket, \"/lane2_barcodes.txt \", \" .\"))\n",
    "system(paste0(\"gsutil cp \", bucket, \"/20210805_maester2_TCRalignSortMappingSummary.txt\", \" .\"))\n",
    "\n",
    "project\n",
    "workspace\n",
    "bucket\n",
    "list.files()"
   ]
  },
  {
   "cell_type": "code",
   "execution_count": 2,
   "metadata": {},
   "outputs": [
    {
     "data": {
      "text/html": [
       "<style>\n",
       ".list-inline {list-style: none; margin:0; padding: 0}\n",
       ".list-inline>li {display: inline-block}\n",
       ".list-inline>li:not(:last-child)::after {content: \"\\00b7\"; padding: 0 .5ex}\n",
       "</style>\n",
       "<ol class=list-inline><li>'ACAACCAGTTAGGCCC'</li><li>'CAACGGCTCCAATGCA'</li><li>'CAGCCAGAGACAGCGT'</li><li>'ACACGCGCAGGATGAC'</li><li>'ATCACGACACATCCCT'</li><li>'GAGCCTGAGATTGATG'</li></ol>\n"
      ],
      "text/latex": [
       "\\begin{enumerate*}\n",
       "\\item 'ACAACCAGTTAGGCCC'\n",
       "\\item 'CAACGGCTCCAATGCA'\n",
       "\\item 'CAGCCAGAGACAGCGT'\n",
       "\\item 'ACACGCGCAGGATGAC'\n",
       "\\item 'ATCACGACACATCCCT'\n",
       "\\item 'GAGCCTGAGATTGATG'\n",
       "\\end{enumerate*}\n"
      ],
      "text/markdown": [
       "1. 'ACAACCAGTTAGGCCC'\n",
       "2. 'CAACGGCTCCAATGCA'\n",
       "3. 'CAGCCAGAGACAGCGT'\n",
       "4. 'ACACGCGCAGGATGAC'\n",
       "5. 'ATCACGACACATCCCT'\n",
       "6. 'GAGCCTGAGATTGATG'\n",
       "\n",
       "\n"
      ],
      "text/plain": [
       "[1] \"ACAACCAGTTAGGCCC\" \"CAACGGCTCCAATGCA\" \"CAGCCAGAGACAGCGT\" \"ACACGCGCAGGATGAC\"\n",
       "[5] \"ATCACGACACATCCCT\" \"GAGCCTGAGATTGATG\""
      ]
     },
     "metadata": {},
     "output_type": "display_data"
    }
   ],
   "source": [
    "barcodes = read.table('lane2_barcodes.txt', stringsAsFactors = FALSE)$V1\n",
    "head(barcodes)"
   ]
  },
  {
   "cell_type": "code",
   "execution_count": 3,
   "metadata": {},
   "outputs": [
    {
     "name": "stderr",
     "output_type": "stream",
     "text": [
      "── \u001b[1mAttaching packages\u001b[22m ─────────────────────────────────────── tidyverse 1.3.1 ──\n",
      "\n",
      "\u001b[32m✔\u001b[39m \u001b[34mggplot2\u001b[39m 3.3.5     \u001b[32m✔\u001b[39m \u001b[34mpurrr  \u001b[39m 0.3.4\n",
      "\u001b[32m✔\u001b[39m \u001b[34mtibble \u001b[39m 3.1.2     \u001b[32m✔\u001b[39m \u001b[34mdplyr  \u001b[39m 1.0.7\n",
      "\u001b[32m✔\u001b[39m \u001b[34mtidyr  \u001b[39m 1.1.3     \u001b[32m✔\u001b[39m \u001b[34mstringr\u001b[39m 1.4.0\n",
      "\u001b[32m✔\u001b[39m \u001b[34mreadr  \u001b[39m 1.4.0     \u001b[32m✔\u001b[39m \u001b[34mforcats\u001b[39m 0.5.1\n",
      "\n",
      "── \u001b[1mConflicts\u001b[22m ────────────────────────────────────────── tidyverse_conflicts() ──\n",
      "\u001b[31m✖\u001b[39m \u001b[34mdplyr\u001b[39m::\u001b[32mfilter()\u001b[39m masks \u001b[34mstats\u001b[39m::filter()\n",
      "\u001b[31m✖\u001b[39m \u001b[34mdplyr\u001b[39m::\u001b[32mlag()\u001b[39m    masks \u001b[34mstats\u001b[39m::lag()\n",
      "\n"
     ]
    }
   ],
   "source": [
    "# Load Packages and set Common Parameters ---------------------------------\n",
    "library(tidyverse)\n",
    "library(Seurat) %>% suppressMessages()\n",
    "library(viridis) %>% suppressMessages()\n",
    "library(RColorBrewer) %>% suppressMessages()\n",
    "library(dplyr) %>% suppressMessages()\n",
    "library(data.table) %>% suppressMessages()\n",
    "library(readr) %>% suppressMessages()\n",
    "library(stringr) %>% suppressMessages()\n",
    "library(ggplot2) %>% suppressMessages()\n",
    "\n",
    "cbPalette <- c(\"gray87\", \"#E69F00\", \"#56B4E9\", \"#009E73\", \"#F0E442\", \"#0072B2\", \"#D55E00\", \"#CC79A7\")"
   ]
  },
  {
   "cell_type": "code",
   "execution_count": 4,
   "metadata": {},
   "outputs": [
    {
     "name": "stderr",
     "output_type": "stream",
     "text": [
      "\n",
      "\u001b[36m──\u001b[39m \u001b[1m\u001b[1mColumn specification\u001b[1m\u001b[22m \u001b[36m────────────────────────────────────────────────────────\u001b[39m\n",
      "cols(\n",
      "  .default = col_double(),\n",
      "  UMI_Name = \u001b[31mcol_character()\u001b[39m,\n",
      "  BC = \u001b[31mcol_character()\u001b[39m,\n",
      "  UMI = \u001b[31mcol_character()\u001b[39m,\n",
      "  TopVregion = \u001b[31mcol_character()\u001b[39m,\n",
      "  TopJregion = \u001b[31mcol_character()\u001b[39m,\n",
      "  TopJ_5UTR = \u001b[31mcol_character()\u001b[39m,\n",
      "  CDR3 = \u001b[31mcol_character()\u001b[39m,\n",
      "  CDR3nuc = \u001b[31mcol_character()\u001b[39m\n",
      ")\n",
      "\u001b[36mℹ\u001b[39m Use \u001b[30m\u001b[47m\u001b[30m\u001b[47m`spec()`\u001b[47m\u001b[30m\u001b[49m\u001b[39m for the full column specifications.\n",
      "\n",
      "\n"
     ]
    }
   ],
   "source": [
    "# Loading files -----------------------------------------------------------\n",
    "file = '20210805_maester2_TCRalignSortMappingSummary.txt'\n",
    "TCR_df <- bind_rows(lapply(file, read_tsv)) %>% filter(TopVFreq > .9)\n",
    "BCSeq = unique(TCR_df$BC)\n",
    "\n",
    "# Clean & Format ----------------------------------------------------------\n",
    "#Then let's clean cast some variable into usable formats\n",
    "TCR_df <- TCR_df %>% mutate(TopVregion = factor(TopVregion), TopJregion = factor(TopJregion))\n",
    "TCR_df = TCR_df \n",
    "\n",
    "#Clean the TCR from umi that gave no CDR3. then orders first by BC, then by nReads within each BC\n",
    "TCR_df_cleaned <- TCR_df %>% filter(!is.na(CDR3)) %>% arrange(BC, desc(nReads))\n",
    "\n",
    "#I think there are still several things to do. One is to quantify how many UMI each CDR3 has,\n",
    "#and then sort the files by UMI, then by reads.\n",
    "\n",
    "#here we create a second df that records (BC,CDR3) combination and their respective UMI_count\n",
    "#The unique argument is key here. It prevent double countings\n",
    "TCR_df_cleaned_UMI_count <- TCR_df_cleaned %>% count(BC, CDR3) %>% rename(UMI_count = n)\n",
    "\n",
    "#then we make merge the two, grouped by Barcode and CDR3\n",
    "TCR_df_cleaned<-left_join(TCR_df_cleaned, TCR_df_cleaned_UMI_count, by = c('BC','CDR3')) #%>% arrange(BC, desc(UMI_count),desc(nReads))\n",
    "\n",
    "#re-order a little bit for readability\n",
    "TCR_df_cleaned<- TCR_df_cleaned %>% select(UMI_Name,BC,UMI,UMI_count,nReads,everything())\n",
    "\n",
    "#then re-order the rows again just to make sure the top UMI_count/nReads results are at the top of each \n",
    "#cell barcode group.\n",
    "TCR_df_cleaned<- TCR_df_cleaned[with(TCR_df_cleaned,order(BC,UMI_count,nReads,decreasing=TRUE)),]\n",
    "\n",
    "#Separate df into alpha and beta chain into two dataframes\n",
    "\n",
    "TRA_df <- TCR_df_cleaned %>% filter(str_detect(TopVregion, \"^TRAV\"))\n",
    "TRB_df <- TCR_df_cleaned %>% filter(str_detect(TopVregion, \"^TRBV\"))"
   ]
  },
  {
   "cell_type": "code",
   "execution_count": 5,
   "metadata": {},
   "outputs": [],
   "source": [
    "barcodes = data.frame(row.names = BCSeq, BC = BCSeq)\n",
    "\n",
    "#Then we should generate masks of matching barcodes. We would probably have to do two masks\n",
    "#Note: these values are just masks that apply to (not BCseq, but) TRA/TRB_df list of values. i.e. it gives\n",
    "#indices of where in the TRA/TRB_df, do you find the correspoding rank position of the same cell (i.e. first\n",
    "#position is first cell in the BCSeqlist.)\n",
    "#BCSeq has to be the total list of barcodes for all of the cells in the Seurat object\n",
    "is.na(match(BCSeq, TRA_df$BC)) == 0 -> TRA_BC \n",
    "is.na(match(BCSeq, TRB_df$BC)) == 0 -> TRB_BC \n",
    "TRA_BC & TRB_BC ->TRAB_BC\n",
    "\n",
    "#is.na(match(BCSeq, TCR_df$BC)) == 0 -> TCR_BC\n",
    "#is.na(match(BCSeq, TCR_df_cleaned$BC)) == 0 -> TCR_cleaned_BC\n",
    "\n",
    "#here we construct the mapping necessary to look at mapping statistics \n",
    "barcodes$TCR_Recovery <- \"No Recovery\"\n",
    "barcodes$TCR_Recovery[c(TRB_BC)] <- \"TRB only\"\n",
    "barcodes$TCR_Recovery[c(TRA_BC)] <- \"TRA only\"\n",
    "barcodes$TCR_Recovery[c(TRAB_BC)] <- \"TRA and TRB\"\n",
    "\n",
    "#Once we get to here, we can do some spot checks. \n",
    "#do\n",
    "#TSNEPlot(umi_seurat, group.by = \"TCR_Recovery\", colors.use = c(cbPalette), \n",
    "# do.hover = TRUE, data.hover = \"ident\")\n",
    "#and look at specific points, and find their cell identity name\n",
    "#then do: BCSeq[match(\"cellname\",names(umi_seurat@ident))]\n",
    "#to find teh particular barcode, then we could check to see if that barcode actually exist in our TCR data\n",
    "#VlnPlot(umi_seurat,c(\"TRBC2\", \"TRAC\"), group.by = \"TCR_Recovery\")\n",
    "\n",
    "barcodes$TRB_CDR3 <- \"No Recovery\"\n",
    "barcodes$TRB_CDR3 <- TRB_df$CDR3[match(BCSeq,TRB_df$BC)]\n",
    "barcodes$TRB_CDR3nuc <- TRB_df$CDR3nuc[match(BCSeq,TRB_df$BC)]\n",
    "\n",
    "barcodes$TRBV <- TRB_df$TopVregion[match(BCSeq,TRB_df$BC)]\n",
    "barcodes$TRBJ<- TRB_df$TopJregion[match(BCSeq,TRB_df$BC)]\n",
    "\n",
    "\n",
    "#checked and the data seems to make sense\n",
    "#The problem here is that this only gives us one TRA, but we should look at multiple. \n",
    "\n",
    "#First we get rid of the duplicates of the TRA, because in a lot of importing of data, we are importing \n",
    "#duplicated data since the same sample could be sequenced multiple times, etc. \n",
    "\n",
    "TRA_df %>% distinct(BC,CDR3,TopVregion, .keep_all = TRUE) -> TRA_uniq_df\n",
    "\n",
    "match(BCSeq,TRA_uniq_df$BC) -> TRA1_Match\n",
    "\n",
    "barcodes$TRA_CDR3 <- \"No Recovery\"\n",
    "barcodes$TRA_CDR3 <- TRA_uniq_df$CDR3[TRA1_Match]\n",
    "barcodes$TRAV <- TRA_uniq_df$TopVregion[TRA1_Match]\n",
    "barcodes$TRAJ<- TRA_uniq_df$TopJregion[TRA1_Match]\n",
    "barcodes$TRA_CDR3nuc<- TRA_uniq_df$CDR3nuc[TRA1_Match]\n",
    "\n",
    "#then we remove the rows that we just assigned \n",
    "TRA1_Match_filter <- TRA1_Match[!is.na(TRA1_Match)]\n",
    "TRA2_uniq_df <- TRA_uniq_df[-TRA1_Match_filter, ]\n",
    "\n",
    "match(BCSeq,TRA2_uniq_df$BC) -> TRA2_Match\n",
    "\n",
    "barcodes$TRA.2_CDR3 <- NA\n",
    "barcodes$TRA.2_CDR3 <- TRA2_uniq_df$CDR3[TRA2_Match]\n",
    "barcodes$TRAV.2 <- TRA2_uniq_df$TopVregion[TRA2_Match]\n",
    "barcodes$TRAJ.2<- TRA2_uniq_df$TopJregion[TRA2_Match]\n",
    "barcodes$TRA.2_CDR3nuc <- TRA2_uniq_df$CDR3nuc[TRA2_Match]\n"
   ]
  },
  {
   "cell_type": "code",
   "execution_count": 6,
   "metadata": {},
   "outputs": [
    {
     "data": {
      "image/png": "[encoded data removed]",
      "text/plain": [
       "plot without title"
      ]
     },
     "metadata": {
      "image/png": {
       "height": 420,
       "width": 420
      }
     },
     "output_type": "display_data"
    }
   ],
   "source": [
    "# Calculate Coverage Statistics -------------------------------------------\n",
    "\n",
    "#now we should generate more graphs automatically. Here we first generate data about coverage statistics\n",
    "\n",
    "cell_ident_df <- data.frame(name =barcodes$Barcode, ident = (barcodes$Array))\n",
    "rownames(cell_ident_df) <- c()\n",
    "\n",
    "#then generate the list of identities previously identified by Seurat\n",
    "ident_list <- levels(factor(barcodes$Array))\n",
    "\n",
    "#then I think we iteratively look through TRA, TRB, TRA and TRB statistics using for loops\n",
    "TRA_stat <- c()\n",
    "TRB_stat <- c()\n",
    "TRAB_stat <- c()\n",
    "for (i in ident_list){\n",
    "  is.na(match(cell_ident_df$ident, i)) == 0 -> mask\n",
    "  sub_total <- sum(mask)\n",
    "  TRA_stat <- c(TRA_stat, sum(TRA_BC[c(mask)])/sub_total)\n",
    "  TRB_stat <- c(TRB_stat, sum(TRB_BC[c(mask)])/sub_total)\n",
    "  TRAB_stat <- c(TRAB_stat, sum(TRAB_BC[c(mask)])/sub_total)\n",
    "}\n",
    "#After iterating through the specific cluster list, do one last iteration to get the total stat\n",
    "\n",
    "ident_list <- c(ident_list,\"Total\")\n",
    "TRA_stat <- c(TRA_stat, sum(TRA_BC)/length(TRA_BC))\n",
    "TRB_stat <- c(TRB_stat, sum(TRB_BC)/length(TRB_BC))\n",
    "TRAB_stat <- c(TRAB_stat, sum(TRAB_BC)/length(TRAB_BC))\n",
    "\n",
    "Coverage_summary_df <- data.frame(Cluster = ident_list,TRA = TRA_stat,TRB = TRB_stat,TRAB = TRAB_stat)\n",
    "\n",
    "#Then we need to create plot based on teh dat that we did\n",
    "\n",
    "Coverage_summary_long<-reshape2::melt(Coverage_summary_df,id.vars=\"Cluster\")\n",
    "\n",
    "Coverage_bar <- ggplot(data = Coverage_summary_long, aes(x = Cluster, y = value, fill = variable)) +\n",
    "  geom_bar(stat = \"identity\",position=\"dodge\", color = \"black\") + scale_x_discrete(limits = ident_list) +\n",
    "  scale_fill_manual(\"Coverage\", values = c(\"TRA\" = cbPalette[3], \"TRB\" = cbPalette[4], \"TRAB\" = cbPalette[2])) +\n",
    "  labs(title = \"Coverage statistics by clusters\", y = \"Fraction Recovered (0-1)\") + \n",
    "  geom_text(aes(label = round(value,digits = 2)),vjust = -0.3, size = 2,position = position_dodge(width=0.9)) +\n",
    "  theme_minimal() + theme(axis.text.x = element_text(angle = 90))\n",
    "\n",
    "#pdf(\"TCR_coverage_by_cluster.pdf\", width = 11, height = 8)\n",
    "Coverage_bar\n",
    "#dev.off()"
   ]
  },
  {
   "cell_type": "code",
   "execution_count": 8,
   "metadata": {},
   "outputs": [],
   "source": [
    "# Save results\n",
    "write.csv(barcodes, '20210805_maester2_vfilter9.csv')\n",
    "\n",
    "# Copy to Google bucket (for longer term storage)\n",
    "#system(paste0(\"gsutil cp 20210805_maester2_vfilter9.csv \", bucket))"
   ]
  }
 ],
 "metadata": {
  "kernelspec": {
   "display_name": "R",
   "language": "R",
   "name": "ir"
  },
  "language_info": {
   "codemirror_mode": "r",
   "file_extension": ".r",
   "mimetype": "text/x-r-source",
   "name": "R",
   "pygments_lexer": "r",
   "version": "4.1.0"
  },
  "toc": {
   "base_numbering": 1,
   "nav_menu": {},
   "number_sections": true,
   "sideBar": true,
   "skip_h1_title": false,
   "title_cell": "Table of Contents",
   "title_sidebar": "Contents",
   "toc_cell": false,
   "toc_position": {},
   "toc_section_display": true,
   "toc_window_display": false
  }
 },
 "nbformat": 4,
 "nbformat_minor": 2
}
